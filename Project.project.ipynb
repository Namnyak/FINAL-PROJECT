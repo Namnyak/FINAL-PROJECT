{
 "cells": [
  {
   "cell_type": "markdown",
   "id": "b5e3b84e-1621-4aab-848f-1ce67c4ef632",
   "metadata": {},
   "source": [
    "# Aviation Accident Database & Synopses, up to 2023"
   ]
  },
  {
   "cell_type": "markdown",
   "id": "d154d0b2-6068-42fe-bb40-f3ec8b3eeb43",
   "metadata": {},
   "source": [
    "# Aviation Accident Database & Synopses, up to 2023"
   ]
  },
  {
   "cell_type": "markdown",
   "id": "4cd60144-b3e9-4d0a-a696-f67146fa532c",
   "metadata": {},
   "source": [
    "## Overview\n",
    "This project analyzes data from the \"Aviation Accident Database & Synopses\" dataset to identify the safest and most cost-effective\n",
    "aircraft for a company looking to expand into the aviation industry. By reviewing accident and incident data, aircraft safety\n",
    "records, maintenance issues, and operational contexts, the project aims to provide actionable insights for minimizing risks\n",
    "and optimizing operational efficiency."
   ]
  },
  {
   "cell_type": "markdown",
   "id": "ebff37c5-9550-4596-9b6a-7fbbc6e3850c",
   "metadata": {},
   "source": [
    "## Business Understanding\n",
    "As the company diversifies its portfolio into the aviation sector, it faces significant risks associated with aircraft safety,\n",
    "maintenance costs, and operational efficiency. Selecting the right aircraft is crucial for ensuring the success of this\n",
    "new business endeavor. The aviation industry is highly competitive and regulated, requiring careful consideration of multiple \n",
    "factors to ensure safe, reliable, and cost-effective operations."
   ]
  },
  {
   "cell_type": "markdown",
   "id": "daae9558-8145-4341-82fa-ef632fb6f1cb",
   "metadata": {},
   "source": [
    "## Data Understanding\n",
    "The \"Aviation Accident Database & Synopses, up to 2023\" from Kaggle is a comprehensive dataset containing detailed information \n",
    "about aviation accidents and incidents. This dataset provides critical insights into various aspects of aviation safety and \n",
    "operational efficiency. For our analysis, we focus on the following key components of the dataset:\n",
    "\n",
    "Accident and Incident Data: This includes detailed records of aviation accidents and incidents, encompassing data points such\n",
    "as the date, location, and severity of each event\n",
    "Aircraft Information: Details about the aircraft involved in each accident or incident, including model, manufacturer,\n",
    "and registration.\n",
    "\n",
    "Synopsis: Brief summaries of each accident or incident, providing context and initial findings.\n",
    "Cause and Contributing Factors: Information on the identified causes and contributing factors for each event.\n",
    "\n",
    "Human Factors: Data on pilot and crew performance, errors, and other human-related aspects.\n",
    "Weather Conditions: Weather data at the time of each accident or incident.\n",
    "\n",
    "Operational Context: Information about the flight phase (e.g., takeoff, cruise, landing) and \n",
    "operation type (e.g., commercial, private, cargo)."
   ]
  },
  {
   "cell_type": "markdown",
   "id": "30dc1dce-8122-4773-814c-0faf8611fd76",
   "metadata": {},
   "source": [
    "# IMPORTS AND DATA"
   ]
  },
  {
   "cell_type": "code",
   "execution_count": 2600,
   "id": "bb678cdd-a096-478f-85a8-8ccfdba612e7",
   "metadata": {},
   "outputs": [],
   "source": [
    "# importing packages\n",
    "import pandas as pd\n",
    "import numpy as np\n",
    "import seaborn as sns\n",
    "import matplotlib.pyplot as plt\n",
    "%matplotlib inline"
   ]
  },
  {
   "cell_type": "markdown",
   "id": "fa8ef587-1e6d-4928-aad6-95965a3cfd33",
   "metadata": {},
   "source": [
    "## Loading the Dataframe"
   ]
  },
  {
   "cell_type": "code",
   "execution_count": 2602,
   "id": "6cf22ae5-d1ba-4248-af66-9f5cedd9fc15",
   "metadata": {},
   "outputs": [
    {
     "data": {
      "text/html": [
       "<div>\n",
       "<style scoped>\n",
       "    .dataframe tbody tr th:only-of-type {\n",
       "        vertical-align: middle;\n",
       "    }\n",
       "\n",
       "    .dataframe tbody tr th {\n",
       "        vertical-align: top;\n",
       "    }\n",
       "\n",
       "    .dataframe thead th {\n",
       "        text-align: right;\n",
       "    }\n",
       "</style>\n",
       "<table border=\"1\" class=\"dataframe\">\n",
       "  <thead>\n",
       "    <tr style=\"text-align: right;\">\n",
       "      <th></th>\n",
       "      <th>Event.Id</th>\n",
       "      <th>Investigation.Type</th>\n",
       "      <th>Accident.Number</th>\n",
       "      <th>Event.Date</th>\n",
       "      <th>Location</th>\n",
       "      <th>Country</th>\n",
       "      <th>Latitude</th>\n",
       "      <th>Longitude</th>\n",
       "      <th>Airport.Code</th>\n",
       "      <th>Airport.Name</th>\n",
       "      <th>...</th>\n",
       "      <th>Purpose.of.flight</th>\n",
       "      <th>Air.carrier</th>\n",
       "      <th>Total.Fatal.Injuries</th>\n",
       "      <th>Total.Serious.Injuries</th>\n",
       "      <th>Total.Minor.Injuries</th>\n",
       "      <th>Total.Uninjured</th>\n",
       "      <th>Weather.Condition</th>\n",
       "      <th>Broad.phase.of.flight</th>\n",
       "      <th>Report.Status</th>\n",
       "      <th>Publication.Date</th>\n",
       "    </tr>\n",
       "  </thead>\n",
       "  <tbody>\n",
       "    <tr>\n",
       "      <th>0</th>\n",
       "      <td>20001218X45444</td>\n",
       "      <td>Accident</td>\n",
       "      <td>SEA87LA080</td>\n",
       "      <td>10/24/1948</td>\n",
       "      <td>MOOSE CREEK, ID</td>\n",
       "      <td>United States</td>\n",
       "      <td>NaN</td>\n",
       "      <td>NaN</td>\n",
       "      <td>NaN</td>\n",
       "      <td>NaN</td>\n",
       "      <td>...</td>\n",
       "      <td>Personal</td>\n",
       "      <td>NaN</td>\n",
       "      <td>2.0</td>\n",
       "      <td>0.0</td>\n",
       "      <td>0.0</td>\n",
       "      <td>0.0</td>\n",
       "      <td>UNK</td>\n",
       "      <td>Cruise</td>\n",
       "      <td>Probable Cause</td>\n",
       "      <td>NaN</td>\n",
       "    </tr>\n",
       "    <tr>\n",
       "      <th>1</th>\n",
       "      <td>20001218X45447</td>\n",
       "      <td>Accident</td>\n",
       "      <td>LAX94LA336</td>\n",
       "      <td>7/19/1962</td>\n",
       "      <td>BRIDGEPORT, CA</td>\n",
       "      <td>United States</td>\n",
       "      <td>NaN</td>\n",
       "      <td>NaN</td>\n",
       "      <td>NaN</td>\n",
       "      <td>NaN</td>\n",
       "      <td>...</td>\n",
       "      <td>Personal</td>\n",
       "      <td>NaN</td>\n",
       "      <td>4.0</td>\n",
       "      <td>0.0</td>\n",
       "      <td>0.0</td>\n",
       "      <td>0.0</td>\n",
       "      <td>UNK</td>\n",
       "      <td>Unknown</td>\n",
       "      <td>Probable Cause</td>\n",
       "      <td>19-09-1996</td>\n",
       "    </tr>\n",
       "    <tr>\n",
       "      <th>2</th>\n",
       "      <td>20061025X01555</td>\n",
       "      <td>Accident</td>\n",
       "      <td>NYC07LA005</td>\n",
       "      <td>8/30/1974</td>\n",
       "      <td>Saltville, VA</td>\n",
       "      <td>United States</td>\n",
       "      <td>36.922223</td>\n",
       "      <td>-81.878056</td>\n",
       "      <td>NaN</td>\n",
       "      <td>NaN</td>\n",
       "      <td>...</td>\n",
       "      <td>Personal</td>\n",
       "      <td>NaN</td>\n",
       "      <td>3.0</td>\n",
       "      <td>NaN</td>\n",
       "      <td>NaN</td>\n",
       "      <td>NaN</td>\n",
       "      <td>IMC</td>\n",
       "      <td>Cruise</td>\n",
       "      <td>Probable Cause</td>\n",
       "      <td>26-02-2007</td>\n",
       "    </tr>\n",
       "    <tr>\n",
       "      <th>3</th>\n",
       "      <td>20001218X45448</td>\n",
       "      <td>Accident</td>\n",
       "      <td>LAX96LA321</td>\n",
       "      <td>6/19/1977</td>\n",
       "      <td>EUREKA, CA</td>\n",
       "      <td>United States</td>\n",
       "      <td>NaN</td>\n",
       "      <td>NaN</td>\n",
       "      <td>NaN</td>\n",
       "      <td>NaN</td>\n",
       "      <td>...</td>\n",
       "      <td>Personal</td>\n",
       "      <td>NaN</td>\n",
       "      <td>2.0</td>\n",
       "      <td>0.0</td>\n",
       "      <td>0.0</td>\n",
       "      <td>0.0</td>\n",
       "      <td>IMC</td>\n",
       "      <td>Cruise</td>\n",
       "      <td>Probable Cause</td>\n",
       "      <td>12/9/2000</td>\n",
       "    </tr>\n",
       "    <tr>\n",
       "      <th>4</th>\n",
       "      <td>20041105X01764</td>\n",
       "      <td>Accident</td>\n",
       "      <td>CHI79FA064</td>\n",
       "      <td>8/2/1979</td>\n",
       "      <td>Canton, OH</td>\n",
       "      <td>United States</td>\n",
       "      <td>NaN</td>\n",
       "      <td>NaN</td>\n",
       "      <td>NaN</td>\n",
       "      <td>NaN</td>\n",
       "      <td>...</td>\n",
       "      <td>Personal</td>\n",
       "      <td>NaN</td>\n",
       "      <td>1.0</td>\n",
       "      <td>2.0</td>\n",
       "      <td>NaN</td>\n",
       "      <td>0.0</td>\n",
       "      <td>VMC</td>\n",
       "      <td>Approach</td>\n",
       "      <td>Probable Cause</td>\n",
       "      <td>16-04-1980</td>\n",
       "    </tr>\n",
       "  </tbody>\n",
       "</table>\n",
       "<p>5 rows × 31 columns</p>\n",
       "</div>"
      ],
      "text/plain": [
       "         Event.Id Investigation.Type Accident.Number  Event.Date  \\\n",
       "0  20001218X45444           Accident      SEA87LA080  10/24/1948   \n",
       "1  20001218X45447           Accident      LAX94LA336   7/19/1962   \n",
       "2  20061025X01555           Accident      NYC07LA005   8/30/1974   \n",
       "3  20001218X45448           Accident      LAX96LA321   6/19/1977   \n",
       "4  20041105X01764           Accident      CHI79FA064    8/2/1979   \n",
       "\n",
       "          Location        Country   Latitude   Longitude Airport.Code  \\\n",
       "0  MOOSE CREEK, ID  United States        NaN         NaN          NaN   \n",
       "1   BRIDGEPORT, CA  United States        NaN         NaN          NaN   \n",
       "2    Saltville, VA  United States  36.922223  -81.878056          NaN   \n",
       "3       EUREKA, CA  United States        NaN         NaN          NaN   \n",
       "4       Canton, OH  United States        NaN         NaN          NaN   \n",
       "\n",
       "  Airport.Name  ... Purpose.of.flight Air.carrier Total.Fatal.Injuries  \\\n",
       "0          NaN  ...          Personal         NaN                  2.0   \n",
       "1          NaN  ...          Personal         NaN                  4.0   \n",
       "2          NaN  ...          Personal         NaN                  3.0   \n",
       "3          NaN  ...          Personal         NaN                  2.0   \n",
       "4          NaN  ...          Personal         NaN                  1.0   \n",
       "\n",
       "  Total.Serious.Injuries Total.Minor.Injuries Total.Uninjured  \\\n",
       "0                    0.0                  0.0             0.0   \n",
       "1                    0.0                  0.0             0.0   \n",
       "2                    NaN                  NaN             NaN   \n",
       "3                    0.0                  0.0             0.0   \n",
       "4                    2.0                  NaN             0.0   \n",
       "\n",
       "  Weather.Condition  Broad.phase.of.flight   Report.Status Publication.Date  \n",
       "0               UNK                 Cruise  Probable Cause              NaN  \n",
       "1               UNK                Unknown  Probable Cause       19-09-1996  \n",
       "2               IMC                 Cruise  Probable Cause       26-02-2007  \n",
       "3               IMC                 Cruise  Probable Cause        12/9/2000  \n",
       "4               VMC               Approach  Probable Cause       16-04-1980  \n",
       "\n",
       "[5 rows x 31 columns]"
      ]
     },
     "execution_count": 2602,
     "metadata": {},
     "output_type": "execute_result"
    }
   ],
   "source": [
    "#Loading the Aviation data\n",
    "df = pd.read_csv('AviationData.csv', encoding='ISO-8859-1',low_memory=False)\n",
    "df.head()"
   ]
  },
  {
   "cell_type": "markdown",
   "id": "3053fea2-719f-4ff5-b8d3-b86f434d37bb",
   "metadata": {},
   "source": [
    "### summary statistics  of data"
   ]
  },
  {
   "cell_type": "code",
   "execution_count": 2604,
   "id": "a076beee-3c05-4287-b184-af09fbd045ef",
   "metadata": {},
   "outputs": [
    {
     "name": "stdout",
     "output_type": "stream",
     "text": [
      "<class 'pandas.core.frame.DataFrame'>\n",
      "RangeIndex: 88889 entries, 0 to 88888\n",
      "Data columns (total 31 columns):\n",
      " #   Column                  Non-Null Count  Dtype  \n",
      "---  ------                  --------------  -----  \n",
      " 0   Event.Id                88889 non-null  object \n",
      " 1   Investigation.Type      88889 non-null  object \n",
      " 2   Accident.Number         88889 non-null  object \n",
      " 3   Event.Date              88889 non-null  object \n",
      " 4   Location                88837 non-null  object \n",
      " 5   Country                 88663 non-null  object \n",
      " 6   Latitude                34382 non-null  object \n",
      " 7   Longitude               34373 non-null  object \n",
      " 8   Airport.Code            50132 non-null  object \n",
      " 9   Airport.Name            52704 non-null  object \n",
      " 10  Injury.Severity         87889 non-null  object \n",
      " 11  Aircraft.damage         85695 non-null  object \n",
      " 12  Aircraft.Category       32287 non-null  object \n",
      " 13  Registration.Number     87507 non-null  object \n",
      " 14  Make                    88826 non-null  object \n",
      " 15  Model                   88797 non-null  object \n",
      " 16  Amateur.Built           88787 non-null  object \n",
      " 17  Number.of.Engines       82805 non-null  float64\n",
      " 18  Engine.Type             81793 non-null  object \n",
      " 19  FAR.Description         32023 non-null  object \n",
      " 20  Schedule                12582 non-null  object \n",
      " 21  Purpose.of.flight       82697 non-null  object \n",
      " 22  Air.carrier             16648 non-null  object \n",
      " 23  Total.Fatal.Injuries    77488 non-null  float64\n",
      " 24  Total.Serious.Injuries  76379 non-null  float64\n",
      " 25  Total.Minor.Injuries    76956 non-null  float64\n",
      " 26  Total.Uninjured         82977 non-null  float64\n",
      " 27  Weather.Condition       84397 non-null  object \n",
      " 28  Broad.phase.of.flight   61724 non-null  object \n",
      " 29  Report.Status           82505 non-null  object \n",
      " 30  Publication.Date        75118 non-null  object \n",
      "dtypes: float64(5), object(26)\n",
      "memory usage: 21.0+ MB\n"
     ]
    }
   ],
   "source": [
    "#Finding summary statistics about our data\n",
    "df.info()"
   ]
  },
  {
   "cell_type": "code",
   "execution_count": 2605,
   "id": "3a47d753-38b8-486d-911d-0fcf1978c905",
   "metadata": {},
   "outputs": [
    {
     "data": {
      "text/plain": [
       "(88889, 31)"
      ]
     },
     "execution_count": 2605,
     "metadata": {},
     "output_type": "execute_result"
    }
   ],
   "source": [
    "#Getting the dimensions of the dataframe\n",
    "df.shape"
   ]
  },
  {
   "cell_type": "markdown",
   "id": "538137e8-ef1c-4933-ae7b-9a9e61c853cf",
   "metadata": {},
   "source": [
    "## Data Preparation\n"
   ]
  },
  {
   "cell_type": "markdown",
   "id": "1a9f06c0-02cd-44f7-b8e2-21dbf610a443",
   "metadata": {},
   "source": [
    "## Handling Missing Values in the dataframe¶\n",
    "Based on the summary statistics, many columns have missing values. Columns with over 50% missing data will be dropped, \n",
    "while the remaining columns will be addressed by filling in or replacing the missing values according to the data analysis.\n",
    "\n",
    "We will now count the missing values in the dataframe to identify which columns have more than 50% missing values."
   ]
  },
  {
   "cell_type": "code",
   "execution_count": 2608,
   "id": "eefecfe8-0cb2-4c21-8ba4-53295eb2225c",
   "metadata": {},
   "outputs": [
    {
     "data": {
      "text/plain": [
       "Event.Id                      0\n",
       "Investigation.Type            0\n",
       "Accident.Number               0\n",
       "Event.Date                    0\n",
       "Location                     52\n",
       "Country                     226\n",
       "Latitude                  54507\n",
       "Longitude                 54516\n",
       "Airport.Code              38757\n",
       "Airport.Name              36185\n",
       "Injury.Severity            1000\n",
       "Aircraft.damage            3194\n",
       "Aircraft.Category         56602\n",
       "Registration.Number        1382\n",
       "Make                         63\n",
       "Model                        92\n",
       "Amateur.Built               102\n",
       "Number.of.Engines          6084\n",
       "Engine.Type                7096\n",
       "FAR.Description           56866\n",
       "Schedule                  76307\n",
       "Purpose.of.flight          6192\n",
       "Air.carrier               72241\n",
       "Total.Fatal.Injuries      11401\n",
       "Total.Serious.Injuries    12510\n",
       "Total.Minor.Injuries      11933\n",
       "Total.Uninjured            5912\n",
       "Weather.Condition          4492\n",
       "Broad.phase.of.flight     27165\n",
       "Report.Status              6384\n",
       "Publication.Date          13771\n",
       "dtype: int64"
      ]
     },
     "execution_count": 2608,
     "metadata": {},
     "output_type": "execute_result"
    }
   ],
   "source": [
    "#finding the sum of the missing values in the dataframe\n",
    "df.isna().sum()"
   ]
  },
  {
   "cell_type": "markdown",
   "id": "dfec2db9-87aa-4acc-8e44-99fb5febb5f9",
   "metadata": {},
   "source": [
    "### what is the percentage of the missing values"
   ]
  },
  {
   "cell_type": "code",
   "execution_count": 2610,
   "id": "6119e2ee-0090-4ccd-af59-0cfcc4550714",
   "metadata": {},
   "outputs": [
    {
     "data": {
      "text/plain": [
       "Event.Id                   0.000000\n",
       "Investigation.Type         0.000000\n",
       "Accident.Number            0.000000\n",
       "Event.Date                 0.000000\n",
       "Location                   0.058500\n",
       "Country                    0.254250\n",
       "Latitude                  61.320298\n",
       "Longitude                 61.330423\n",
       "Airport.Code              43.601570\n",
       "Airport.Name              40.708074\n",
       "Injury.Severity            1.124999\n",
       "Aircraft.damage            3.593246\n",
       "Aircraft.Category         63.677170\n",
       "Registration.Number        1.554748\n",
       "Make                       0.070875\n",
       "Model                      0.103500\n",
       "Amateur.Built              0.114750\n",
       "Number.of.Engines          6.844491\n",
       "Engine.Type                7.982990\n",
       "FAR.Description           63.974170\n",
       "Schedule                  85.845268\n",
       "Purpose.of.flight          6.965991\n",
       "Air.carrier               81.271023\n",
       "Total.Fatal.Injuries      12.826109\n",
       "Total.Serious.Injuries    14.073732\n",
       "Total.Minor.Injuries      13.424608\n",
       "Total.Uninjured            6.650992\n",
       "Weather.Condition          5.053494\n",
       "Broad.phase.of.flight     30.560587\n",
       "Report.Status              7.181991\n",
       "Publication.Date          15.492356\n",
       "dtype: float64"
      ]
     },
     "execution_count": 2610,
     "metadata": {},
     "output_type": "execute_result"
    }
   ],
   "source": [
    "#Getting the percentage of missing values in the dataframe\n",
    "percent_missing = ((df.isna().sum())/88889)*100\n",
    "percent_missing"
   ]
  },
  {
   "cell_type": "markdown",
   "id": "db5905d1-e1cc-4cbc-9d85-21fb967b7906",
   "metadata": {},
   "source": [
    "From the statistics above, nearly half of the columns with missing data have over 50% missing values. Since this amount of \n",
    "data is insufficient and may not contribute meaningfully to the analysis, we will drop these columns."
   ]
  },
  {
   "cell_type": "markdown",
   "id": "8952bc84-1712-4f62-84ef-5a147e66c295",
   "metadata": {},
   "source": [
    "#### Dropping columns with missing values greater than 50%"
   ]
  },
  {
   "cell_type": "code",
   "execution_count": 2613,
   "id": "87db358b-c3fa-4e2f-a7cb-ef21d5b5539d",
   "metadata": {},
   "outputs": [
    {
     "data": {
      "text/plain": [
       "Index(['Latitude', 'Longitude', 'Aircraft.Category', 'FAR.Description',\n",
       "       'Schedule', 'Air.carrier'],\n",
       "      dtype='object')"
      ]
     },
     "execution_count": 2613,
     "metadata": {},
     "output_type": "execute_result"
    }
   ],
   "source": [
    "#dropping columns with missing percentage greater than 50%\n",
    "greater_50 = percent_missing[percent_missing>50].index\n",
    "df.drop(labels=greater_50, inplace=True, axis=1)\n",
    "\n",
    "greater_50"
   ]
  },
  {
   "cell_type": "code",
   "execution_count": 2614,
   "id": "bd8cdbbb-5c7f-439a-8f49-7a751129c351",
   "metadata": {},
   "outputs": [],
   "source": [
    "#dropping rows with missing values\n",
    "#df_cleaned = df.dropna(inplace=True)\n",
    "#df_cleaned\n",
    "\n"
   ]
  },
  {
   "cell_type": "code",
   "execution_count": 2615,
   "id": "5ef0cad7-15ce-4904-9b7d-dade733a856c",
   "metadata": {},
   "outputs": [],
   "source": [
    "# Identify rows with missing values\n",
    "#rows_with_missing_values = df.isna().any(axis=1)\n",
    "#rows_with_missing_values\n",
    "\n",
    "# Count rows with missing values\n",
    "#num_rows_with_missing_values = rows_with_missing_values.sum()\n",
    "#print(num_rows_with_missing_values)"
   ]
  },
  {
   "cell_type": "code",
   "execution_count": null,
   "id": "f8af9f48-8b77-40d1-989e-12bf78625395",
   "metadata": {},
   "outputs": [],
   "source": []
  },
  {
   "cell_type": "code",
   "execution_count": 2616,
   "id": "965fcfa0-8120-4bbf-bd87-54687e834a34",
   "metadata": {},
   "outputs": [
    {
     "name": "stdout",
     "output_type": "stream",
     "text": [
      "<class 'pandas.core.frame.DataFrame'>\n",
      "RangeIndex: 88889 entries, 0 to 88888\n",
      "Data columns (total 25 columns):\n",
      " #   Column                  Non-Null Count  Dtype  \n",
      "---  ------                  --------------  -----  \n",
      " 0   Event.Id                88889 non-null  object \n",
      " 1   Investigation.Type      88889 non-null  object \n",
      " 2   Accident.Number         88889 non-null  object \n",
      " 3   Event.Date              88889 non-null  object \n",
      " 4   Location                88837 non-null  object \n",
      " 5   Country                 88663 non-null  object \n",
      " 6   Airport.Code            50132 non-null  object \n",
      " 7   Airport.Name            52704 non-null  object \n",
      " 8   Injury.Severity         87889 non-null  object \n",
      " 9   Aircraft.damage         85695 non-null  object \n",
      " 10  Registration.Number     87507 non-null  object \n",
      " 11  Make                    88826 non-null  object \n",
      " 12  Model                   88797 non-null  object \n",
      " 13  Amateur.Built           88787 non-null  object \n",
      " 14  Number.of.Engines       82805 non-null  float64\n",
      " 15  Engine.Type             81793 non-null  object \n",
      " 16  Purpose.of.flight       82697 non-null  object \n",
      " 17  Total.Fatal.Injuries    77488 non-null  float64\n",
      " 18  Total.Serious.Injuries  76379 non-null  float64\n",
      " 19  Total.Minor.Injuries    76956 non-null  float64\n",
      " 20  Total.Uninjured         82977 non-null  float64\n",
      " 21  Weather.Condition       84397 non-null  object \n",
      " 22  Broad.phase.of.flight   61724 non-null  object \n",
      " 23  Report.Status           82505 non-null  object \n",
      " 24  Publication.Date        75118 non-null  object \n",
      "dtypes: float64(5), object(20)\n",
      "memory usage: 17.0+ MB\n"
     ]
    }
   ],
   "source": [
    "#confirming if the columns with more than 50% missing values, have been dropped.\n",
    "df.info()"
   ]
  },
  {
   "cell_type": "code",
   "execution_count": 2617,
   "id": "9673881a-49de-428b-8fc0-6c49ee7045d4",
   "metadata": {},
   "outputs": [
    {
     "data": {
      "text/plain": [
       "(88889, 25)"
      ]
     },
     "execution_count": 2617,
     "metadata": {},
     "output_type": "execute_result"
    }
   ],
   "source": [
    "df.shape"
   ]
  },
  {
   "cell_type": "markdown",
   "id": "b2e9c15b-7a7a-4fc7-9f61-e42e9e8c3bb8",
   "metadata": {},
   "source": [
    "## Dealing with Outliers"
   ]
  },
  {
   "cell_type": "markdown",
   "id": "c7b49ca2-29be-4805-861f-3491d8930f46",
   "metadata": {},
   "source": [
    "Handling missing values (imputing, removing, or flagging them).\n",
    "\n",
    "Removing duplicates.\n",
    "\n",
    "Addressing outliers and anomalies."
   ]
  },
  {
   "cell_type": "markdown",
   "id": "30f1b05f-43f5-4c77-8f90-b36f63eb38e2",
   "metadata": {},
   "source": [
    "### Removing duplicates"
   ]
  },
  {
   "cell_type": "code",
   "execution_count": 2621,
   "id": "6f381a4c-7d19-4810-b522-d66b7d0fc206",
   "metadata": {},
   "outputs": [
    {
     "data": {
      "text/plain": [
       "0        False\n",
       "1        False\n",
       "2        False\n",
       "3        False\n",
       "4        False\n",
       "         ...  \n",
       "88884    False\n",
       "88885    False\n",
       "88886    False\n",
       "88887    False\n",
       "88888    False\n",
       "Length: 88889, dtype: bool"
      ]
     },
     "execution_count": 2621,
     "metadata": {},
     "output_type": "execute_result"
    }
   ],
   "source": [
    "# Identifying duplicate rows considering all columns\n",
    "duplicates = df.duplicated()\n",
    "duplicates"
   ]
  },
  {
   "cell_type": "code",
   "execution_count": 2622,
   "id": "519351f6-e87c-4569-a8d1-88fdfd51cc1b",
   "metadata": {},
   "outputs": [
    {
     "data": {
      "text/html": [
       "<div>\n",
       "<style scoped>\n",
       "    .dataframe tbody tr th:only-of-type {\n",
       "        vertical-align: middle;\n",
       "    }\n",
       "\n",
       "    .dataframe tbody tr th {\n",
       "        vertical-align: top;\n",
       "    }\n",
       "\n",
       "    .dataframe thead th {\n",
       "        text-align: right;\n",
       "    }\n",
       "</style>\n",
       "<table border=\"1\" class=\"dataframe\">\n",
       "  <thead>\n",
       "    <tr style=\"text-align: right;\">\n",
       "      <th></th>\n",
       "      <th>Event.Id</th>\n",
       "      <th>Investigation.Type</th>\n",
       "      <th>Accident.Number</th>\n",
       "      <th>Event.Date</th>\n",
       "      <th>Location</th>\n",
       "      <th>Country</th>\n",
       "      <th>Airport.Code</th>\n",
       "      <th>Airport.Name</th>\n",
       "      <th>Injury.Severity</th>\n",
       "      <th>Aircraft.damage</th>\n",
       "      <th>...</th>\n",
       "      <th>Engine.Type</th>\n",
       "      <th>Purpose.of.flight</th>\n",
       "      <th>Total.Fatal.Injuries</th>\n",
       "      <th>Total.Serious.Injuries</th>\n",
       "      <th>Total.Minor.Injuries</th>\n",
       "      <th>Total.Uninjured</th>\n",
       "      <th>Weather.Condition</th>\n",
       "      <th>Broad.phase.of.flight</th>\n",
       "      <th>Report.Status</th>\n",
       "      <th>Publication.Date</th>\n",
       "    </tr>\n",
       "  </thead>\n",
       "  <tbody>\n",
       "  </tbody>\n",
       "</table>\n",
       "<p>0 rows × 25 columns</p>\n",
       "</div>"
      ],
      "text/plain": [
       "Empty DataFrame\n",
       "Columns: [Event.Id, Investigation.Type, Accident.Number, Event.Date, Location, Country, Airport.Code, Airport.Name, Injury.Severity, Aircraft.damage, Registration.Number, Make, Model, Amateur.Built, Number.of.Engines, Engine.Type, Purpose.of.flight, Total.Fatal.Injuries, Total.Serious.Injuries, Total.Minor.Injuries, Total.Uninjured, Weather.Condition, Broad.phase.of.flight, Report.Status, Publication.Date]\n",
       "Index: []\n",
       "\n",
       "[0 rows x 25 columns]"
      ]
     },
     "execution_count": 2622,
     "metadata": {},
     "output_type": "execute_result"
    }
   ],
   "source": [
    "# Displaying all duplicate rows\n",
    "duplicate_rows = df[duplicates]\n",
    "duplicate_rows"
   ]
  },
  {
   "cell_type": "markdown",
   "id": "030b3db7-51f0-4c86-9c74-187fb4a9b036",
   "metadata": {},
   "source": [
    "#### from the observation above , there are no duplicates"
   ]
  },
  {
   "cell_type": "markdown",
   "id": "8e9c2e22-fb0b-4ece-9d34-cf445bb50800",
   "metadata": {},
   "source": [
    "### Handling Outliers\n"
   ]
  },
  {
   "cell_type": "markdown",
   "id": "fdb16052-867b-4762-8c2e-27d6ac6ab9bf",
   "metadata": {},
   "source": [
    "Handling outliers using Interquatile Range."
   ]
  },
  {
   "cell_type": "code",
   "execution_count": 2626,
   "id": "c23469a4-faff-4043-86e7-e9bcd9022f25",
   "metadata": {},
   "outputs": [],
   "source": [
    "from scipy import stats"
   ]
  },
  {
   "cell_type": "markdown",
   "id": "384dfe6b-3bad-45de-a7a6-278c4ff05629",
   "metadata": {},
   "source": [
    "In the remaining columns, some contain complete data, while others still have missing values, albeit less than 50%. It's not advisable to drop columns\n",
    "with very few missing values as this data could be valuable for our analysis, and we also aim to uphold data integrity.\n",
    "\n",
    "During our exploratory data analysis, if columns with missing values prove to be useful, we will proceed to fill or replace these missing values.\""
   ]
  },
  {
   "cell_type": "markdown",
   "id": "6ef40b0b-6769-4af4-a358-2ce9c1737df1",
   "metadata": {},
   "source": [
    "## EXPLORATORY DATA ANALYSIS (EDA)¶"
   ]
  },
  {
   "cell_type": "markdown",
   "id": "5a8e6811-5b6d-4014-bc0b-eabcddbf0c23",
   "metadata": {},
   "source": [
    "Our primary business recommendation as we endeavor to identify the safest and most cost-effective aircraft for a company venturing into the aviation \n",
    "industry is to prioritize aircraft with established safety records."
   ]
  },
  {
   "cell_type": "markdown",
   "id": "689919ce-7b7e-4570-a6ac-ab7a826a69eb",
   "metadata": {},
   "source": [
    "### Identifying Aircrafts with Proven Safety Records¶\n",
    "Analyzing the Aircrafts Safety Records is crucial to ensuring the safety, financial stability, reputation, regulatory compliance, and long-term\n",
    "viability of the company's aviation division.\n",
    "\n",
    "We will thus concentrate on the following columns to assist us in analyzing and identifying the aircraft with the best safety records."
   ]
  },
  {
   "cell_type": "markdown",
   "id": "cb264e61-0916-4f21-b8a7-ef392db2a073",
   "metadata": {},
   "source": [
    "### 1a. Filtering the dataframe to relevant Data only\n",
    "To include only columns related to Aircraft Condition and Performance"
   ]
  },
  {
   "cell_type": "code",
   "execution_count": 2632,
   "id": "fbc30fdb-6b7a-4f2a-9118-539703c2d7f1",
   "metadata": {},
   "outputs": [
    {
     "data": {
      "text/html": [
       "<div>\n",
       "<style scoped>\n",
       "    .dataframe tbody tr th:only-of-type {\n",
       "        vertical-align: middle;\n",
       "    }\n",
       "\n",
       "    .dataframe tbody tr th {\n",
       "        vertical-align: top;\n",
       "    }\n",
       "\n",
       "    .dataframe thead th {\n",
       "        text-align: right;\n",
       "    }\n",
       "</style>\n",
       "<table border=\"1\" class=\"dataframe\">\n",
       "  <thead>\n",
       "    <tr style=\"text-align: right;\">\n",
       "      <th></th>\n",
       "      <th>Event.Id</th>\n",
       "      <th>Accident.Number</th>\n",
       "      <th>Event.Date</th>\n",
       "      <th>Country</th>\n",
       "      <th>Aircraft.damage</th>\n",
       "      <th>Make</th>\n",
       "      <th>Model</th>\n",
       "      <th>Amateur.Built</th>\n",
       "      <th>Number.of.Engines</th>\n",
       "      <th>Engine.Type</th>\n",
       "      <th>Total.Fatal.Injuries</th>\n",
       "      <th>Total.Serious.Injuries</th>\n",
       "      <th>Total.Minor.Injuries</th>\n",
       "      <th>Total.Uninjured</th>\n",
       "      <th>Purpose.of.flight</th>\n",
       "    </tr>\n",
       "  </thead>\n",
       "  <tbody>\n",
       "    <tr>\n",
       "      <th>0</th>\n",
       "      <td>20001218X45444</td>\n",
       "      <td>SEA87LA080</td>\n",
       "      <td>10/24/1948</td>\n",
       "      <td>United States</td>\n",
       "      <td>Destroyed</td>\n",
       "      <td>Stinson</td>\n",
       "      <td>108-3</td>\n",
       "      <td>No</td>\n",
       "      <td>1.0</td>\n",
       "      <td>Reciprocating</td>\n",
       "      <td>2.0</td>\n",
       "      <td>0.0</td>\n",
       "      <td>0.0</td>\n",
       "      <td>0.0</td>\n",
       "      <td>Personal</td>\n",
       "    </tr>\n",
       "    <tr>\n",
       "      <th>1</th>\n",
       "      <td>20001218X45447</td>\n",
       "      <td>LAX94LA336</td>\n",
       "      <td>7/19/1962</td>\n",
       "      <td>United States</td>\n",
       "      <td>Destroyed</td>\n",
       "      <td>Piper</td>\n",
       "      <td>PA24-180</td>\n",
       "      <td>No</td>\n",
       "      <td>1.0</td>\n",
       "      <td>Reciprocating</td>\n",
       "      <td>4.0</td>\n",
       "      <td>0.0</td>\n",
       "      <td>0.0</td>\n",
       "      <td>0.0</td>\n",
       "      <td>Personal</td>\n",
       "    </tr>\n",
       "    <tr>\n",
       "      <th>2</th>\n",
       "      <td>20061025X01555</td>\n",
       "      <td>NYC07LA005</td>\n",
       "      <td>8/30/1974</td>\n",
       "      <td>United States</td>\n",
       "      <td>Destroyed</td>\n",
       "      <td>Cessna</td>\n",
       "      <td>172M</td>\n",
       "      <td>No</td>\n",
       "      <td>1.0</td>\n",
       "      <td>Reciprocating</td>\n",
       "      <td>3.0</td>\n",
       "      <td>NaN</td>\n",
       "      <td>NaN</td>\n",
       "      <td>NaN</td>\n",
       "      <td>Personal</td>\n",
       "    </tr>\n",
       "    <tr>\n",
       "      <th>3</th>\n",
       "      <td>20001218X45448</td>\n",
       "      <td>LAX96LA321</td>\n",
       "      <td>6/19/1977</td>\n",
       "      <td>United States</td>\n",
       "      <td>Destroyed</td>\n",
       "      <td>Rockwell</td>\n",
       "      <td>112</td>\n",
       "      <td>No</td>\n",
       "      <td>1.0</td>\n",
       "      <td>Reciprocating</td>\n",
       "      <td>2.0</td>\n",
       "      <td>0.0</td>\n",
       "      <td>0.0</td>\n",
       "      <td>0.0</td>\n",
       "      <td>Personal</td>\n",
       "    </tr>\n",
       "    <tr>\n",
       "      <th>4</th>\n",
       "      <td>20041105X01764</td>\n",
       "      <td>CHI79FA064</td>\n",
       "      <td>8/2/1979</td>\n",
       "      <td>United States</td>\n",
       "      <td>Destroyed</td>\n",
       "      <td>Cessna</td>\n",
       "      <td>501</td>\n",
       "      <td>No</td>\n",
       "      <td>NaN</td>\n",
       "      <td>NaN</td>\n",
       "      <td>1.0</td>\n",
       "      <td>2.0</td>\n",
       "      <td>NaN</td>\n",
       "      <td>0.0</td>\n",
       "      <td>Personal</td>\n",
       "    </tr>\n",
       "    <tr>\n",
       "      <th>...</th>\n",
       "      <td>...</td>\n",
       "      <td>...</td>\n",
       "      <td>...</td>\n",
       "      <td>...</td>\n",
       "      <td>...</td>\n",
       "      <td>...</td>\n",
       "      <td>...</td>\n",
       "      <td>...</td>\n",
       "      <td>...</td>\n",
       "      <td>...</td>\n",
       "      <td>...</td>\n",
       "      <td>...</td>\n",
       "      <td>...</td>\n",
       "      <td>...</td>\n",
       "      <td>...</td>\n",
       "    </tr>\n",
       "    <tr>\n",
       "      <th>88884</th>\n",
       "      <td>2.02212E+13</td>\n",
       "      <td>ERA23LA093</td>\n",
       "      <td>12/26/2022</td>\n",
       "      <td>United States</td>\n",
       "      <td>NaN</td>\n",
       "      <td>PIPER</td>\n",
       "      <td>PA-28-151</td>\n",
       "      <td>No</td>\n",
       "      <td>NaN</td>\n",
       "      <td>NaN</td>\n",
       "      <td>0.0</td>\n",
       "      <td>1.0</td>\n",
       "      <td>0.0</td>\n",
       "      <td>0.0</td>\n",
       "      <td>Personal</td>\n",
       "    </tr>\n",
       "    <tr>\n",
       "      <th>88885</th>\n",
       "      <td>2.02212E+13</td>\n",
       "      <td>ERA23LA095</td>\n",
       "      <td>12/26/2022</td>\n",
       "      <td>United States</td>\n",
       "      <td>NaN</td>\n",
       "      <td>BELLANCA</td>\n",
       "      <td>7ECA</td>\n",
       "      <td>No</td>\n",
       "      <td>NaN</td>\n",
       "      <td>NaN</td>\n",
       "      <td>0.0</td>\n",
       "      <td>0.0</td>\n",
       "      <td>0.0</td>\n",
       "      <td>0.0</td>\n",
       "      <td>NaN</td>\n",
       "    </tr>\n",
       "    <tr>\n",
       "      <th>88886</th>\n",
       "      <td>2.02212E+13</td>\n",
       "      <td>WPR23LA075</td>\n",
       "      <td>12/26/2022</td>\n",
       "      <td>United States</td>\n",
       "      <td>Substantial</td>\n",
       "      <td>AMERICAN CHAMPION AIRCRAFT</td>\n",
       "      <td>8GCBC</td>\n",
       "      <td>No</td>\n",
       "      <td>1.0</td>\n",
       "      <td>NaN</td>\n",
       "      <td>0.0</td>\n",
       "      <td>0.0</td>\n",
       "      <td>0.0</td>\n",
       "      <td>1.0</td>\n",
       "      <td>Personal</td>\n",
       "    </tr>\n",
       "    <tr>\n",
       "      <th>88887</th>\n",
       "      <td>2.02212E+13</td>\n",
       "      <td>WPR23LA076</td>\n",
       "      <td>12/26/2022</td>\n",
       "      <td>United States</td>\n",
       "      <td>NaN</td>\n",
       "      <td>CESSNA</td>\n",
       "      <td>210N</td>\n",
       "      <td>No</td>\n",
       "      <td>NaN</td>\n",
       "      <td>NaN</td>\n",
       "      <td>0.0</td>\n",
       "      <td>0.0</td>\n",
       "      <td>0.0</td>\n",
       "      <td>0.0</td>\n",
       "      <td>Personal</td>\n",
       "    </tr>\n",
       "    <tr>\n",
       "      <th>88888</th>\n",
       "      <td>2.02212E+13</td>\n",
       "      <td>ERA23LA097</td>\n",
       "      <td>12/29/2022</td>\n",
       "      <td>United States</td>\n",
       "      <td>NaN</td>\n",
       "      <td>PIPER</td>\n",
       "      <td>PA-24-260</td>\n",
       "      <td>No</td>\n",
       "      <td>NaN</td>\n",
       "      <td>NaN</td>\n",
       "      <td>0.0</td>\n",
       "      <td>1.0</td>\n",
       "      <td>0.0</td>\n",
       "      <td>1.0</td>\n",
       "      <td>Personal</td>\n",
       "    </tr>\n",
       "  </tbody>\n",
       "</table>\n",
       "<p>88889 rows × 15 columns</p>\n",
       "</div>"
      ],
      "text/plain": [
       "             Event.Id Accident.Number  Event.Date        Country  \\\n",
       "0      20001218X45444      SEA87LA080  10/24/1948  United States   \n",
       "1      20001218X45447      LAX94LA336   7/19/1962  United States   \n",
       "2      20061025X01555      NYC07LA005   8/30/1974  United States   \n",
       "3      20001218X45448      LAX96LA321   6/19/1977  United States   \n",
       "4      20041105X01764      CHI79FA064    8/2/1979  United States   \n",
       "...               ...             ...         ...            ...   \n",
       "88884     2.02212E+13      ERA23LA093  12/26/2022  United States   \n",
       "88885     2.02212E+13      ERA23LA095  12/26/2022  United States   \n",
       "88886     2.02212E+13      WPR23LA075  12/26/2022  United States   \n",
       "88887     2.02212E+13      WPR23LA076  12/26/2022  United States   \n",
       "88888     2.02212E+13      ERA23LA097  12/29/2022  United States   \n",
       "\n",
       "      Aircraft.damage                        Make      Model Amateur.Built  \\\n",
       "0           Destroyed                     Stinson      108-3            No   \n",
       "1           Destroyed                       Piper   PA24-180            No   \n",
       "2           Destroyed                      Cessna       172M            No   \n",
       "3           Destroyed                    Rockwell        112            No   \n",
       "4           Destroyed                      Cessna        501            No   \n",
       "...               ...                         ...        ...           ...   \n",
       "88884             NaN                       PIPER  PA-28-151            No   \n",
       "88885             NaN                    BELLANCA       7ECA            No   \n",
       "88886     Substantial  AMERICAN CHAMPION AIRCRAFT      8GCBC            No   \n",
       "88887             NaN                      CESSNA       210N            No   \n",
       "88888             NaN                       PIPER  PA-24-260            No   \n",
       "\n",
       "       Number.of.Engines    Engine.Type  Total.Fatal.Injuries  \\\n",
       "0                    1.0  Reciprocating                   2.0   \n",
       "1                    1.0  Reciprocating                   4.0   \n",
       "2                    1.0  Reciprocating                   3.0   \n",
       "3                    1.0  Reciprocating                   2.0   \n",
       "4                    NaN            NaN                   1.0   \n",
       "...                  ...            ...                   ...   \n",
       "88884                NaN            NaN                   0.0   \n",
       "88885                NaN            NaN                   0.0   \n",
       "88886                1.0            NaN                   0.0   \n",
       "88887                NaN            NaN                   0.0   \n",
       "88888                NaN            NaN                   0.0   \n",
       "\n",
       "       Total.Serious.Injuries  Total.Minor.Injuries  Total.Uninjured  \\\n",
       "0                         0.0                   0.0              0.0   \n",
       "1                         0.0                   0.0              0.0   \n",
       "2                         NaN                   NaN              NaN   \n",
       "3                         0.0                   0.0              0.0   \n",
       "4                         2.0                   NaN              0.0   \n",
       "...                       ...                   ...              ...   \n",
       "88884                     1.0                   0.0              0.0   \n",
       "88885                     0.0                   0.0              0.0   \n",
       "88886                     0.0                   0.0              1.0   \n",
       "88887                     0.0                   0.0              0.0   \n",
       "88888                     1.0                   0.0              1.0   \n",
       "\n",
       "      Purpose.of.flight  \n",
       "0              Personal  \n",
       "1              Personal  \n",
       "2              Personal  \n",
       "3              Personal  \n",
       "4              Personal  \n",
       "...                 ...  \n",
       "88884          Personal  \n",
       "88885               NaN  \n",
       "88886          Personal  \n",
       "88887          Personal  \n",
       "88888          Personal  \n",
       "\n",
       "[88889 rows x 15 columns]"
      ]
     },
     "execution_count": 2632,
     "metadata": {},
     "output_type": "execute_result"
    }
   ],
   "source": [
    "# Select columns related to aircraft condition and performance\n",
    "relevant_columns = [\n",
    "    'Event.Id', 'Accident.Number', 'Event.Date', 'Country', 'Aircraft.damage', \n",
    "    'Make', 'Model', 'Amateur.Built', 'Number.of.Engines', 'Engine.Type', \n",
    "    'Total.Fatal.Injuries', 'Total.Serious.Injuries', 'Total.Minor.Injuries', 'Total.Uninjured','Purpose.of.flight' \n",
    "]\n",
    "aircraft_data = df[relevant_columns]\n",
    "aircraft_data"
   ]
  },
  {
   "cell_type": "markdown",
   "id": "37903171-046e-480f-88dd-e1bd8b1c1a67",
   "metadata": {},
   "source": [
    "### Dealing with Missing values in the relevant columns"
   ]
  },
  {
   "cell_type": "markdown",
   "id": "05aafee4-9109-4ae8-8159-6cf0c2936fd7",
   "metadata": {},
   "source": [
    "Dealing with missing data is crucial in data analysis and decision-making for several reasons:\n",
    "\n",
    "\n",
    "Ensuring Data Quality and Integrity\n",
    "Improving Model Performance\n",
    "Enabling Comprehensive Analysis\n",
    "Facilitating Robustness in Decision-Making"
   ]
  },
  {
   "cell_type": "code",
   "execution_count": 2635,
   "id": "d7d5e09e-46e4-4dbd-9666-966b6886c448",
   "metadata": {},
   "outputs": [
    {
     "name": "stdout",
     "output_type": "stream",
     "text": [
      "<class 'pandas.core.frame.DataFrame'>\n",
      "RangeIndex: 88889 entries, 0 to 88888\n",
      "Data columns (total 15 columns):\n",
      " #   Column                  Non-Null Count  Dtype  \n",
      "---  ------                  --------------  -----  \n",
      " 0   Event.Id                88889 non-null  object \n",
      " 1   Accident.Number         88889 non-null  object \n",
      " 2   Event.Date              88889 non-null  object \n",
      " 3   Country                 88663 non-null  object \n",
      " 4   Aircraft.damage         85695 non-null  object \n",
      " 5   Make                    88826 non-null  object \n",
      " 6   Model                   88797 non-null  object \n",
      " 7   Amateur.Built           88787 non-null  object \n",
      " 8   Number.of.Engines       82805 non-null  float64\n",
      " 9   Engine.Type             81793 non-null  object \n",
      " 10  Total.Fatal.Injuries    77488 non-null  float64\n",
      " 11  Total.Serious.Injuries  76379 non-null  float64\n",
      " 12  Total.Minor.Injuries    76956 non-null  float64\n",
      " 13  Total.Uninjured         82977 non-null  float64\n",
      " 14  Purpose.of.flight       82697 non-null  object \n",
      "dtypes: float64(5), object(10)\n",
      "memory usage: 10.2+ MB\n"
     ]
    }
   ],
   "source": [
    "#The .info() method in pandas provides a concise summary of a DataFrame. \n",
    "aircraft_data.info()"
   ]
  },
  {
   "cell_type": "code",
   "execution_count": 2636,
   "id": "be1142c4-b9d3-4e59-8bf0-7b4765cdffe7",
   "metadata": {},
   "outputs": [
    {
     "data": {
      "text/plain": [
       "Event.Id                      0\n",
       "Accident.Number               0\n",
       "Event.Date                    0\n",
       "Country                     226\n",
       "Aircraft.damage            3194\n",
       "Make                         63\n",
       "Model                        92\n",
       "Amateur.Built               102\n",
       "Number.of.Engines          6084\n",
       "Engine.Type                7096\n",
       "Total.Fatal.Injuries      11401\n",
       "Total.Serious.Injuries    12510\n",
       "Total.Minor.Injuries      11933\n",
       "Total.Uninjured            5912\n",
       "Purpose.of.flight          6192\n",
       "dtype: int64"
      ]
     },
     "execution_count": 2636,
     "metadata": {},
     "output_type": "execute_result"
    }
   ],
   "source": [
    "### Lets start by counting the sum of missing values \n",
    "aircraft_data.isna().sum()"
   ]
  },
  {
   "cell_type": "markdown",
   "id": "eaa7d6c9-c8f1-4b08-ac68-89948dd0384a",
   "metadata": {},
   "source": [
    "According to the summary statistics, there are a few columns with missing data that are categorical, while the remaining columns with missing values are\n",
    "numerical. The best approach to deal with categorical data is imputing using 'mode' or considering a separate category for missing values ,while for\n",
    "numerical data is either dropping the column/rows or imputing them using median, mean and mode"
   ]
  },
  {
   "cell_type": "markdown",
   "id": "fc90f190-8e94-4876-8575-13578a819047",
   "metadata": {},
   "source": [
    "### Lets start by dealing with Missing values in columns with Numerical data"
   ]
  },
  {
   "cell_type": "code",
   "execution_count": 2639,
   "id": "f8abe0ec-7657-4869-869a-79fb7a0fa4ea",
   "metadata": {},
   "outputs": [],
   "source": [
    "#imputing missing values in the column 'Number.of.Engines' with mode\n",
    "\n",
    "number_of_engine_mode = df['Number.of.Engines'].mode()[0]\n",
    "df['Number.of.Engines'].fillna(number_of_engine_mode, inplace=True)\n",
    "#df['Number.of.Engines'].fillna(df['Number.of.Engines'].mode(), inplace=True)\n",
    "\n",
    "# we shall impute misssing values using median in the following columns due to skewed data\n",
    "df['Total.Fatal.Injuries'].fillna(df['Total.Fatal.Injuries'].median(), inplace=True)\n",
    "df['Total.Serious.Injuries'].fillna(df['Total.Serious.Injuries'].median(), inplace=True)\n",
    "df['Total.Minor.Injuries'].fillna(df['Total.Minor.Injuries'].median(), inplace=True)\n",
    "df['Total.Uninjured'].fillna(df['Total.Uninjured'].median(), inplace=True)"
   ]
  },
  {
   "cell_type": "markdown",
   "id": "27d7be5f-f93b-4156-b7fb-a904ea816150",
   "metadata": {},
   "source": [
    "### Dealing with Missing data in columns with Categorical data"
   ]
  },
  {
   "cell_type": "code",
   "execution_count": 2641,
   "id": "71328c5a-36b0-4d6f-847c-b782c4617218",
   "metadata": {},
   "outputs": [],
   "source": [
    "#imputing the missing values using mode\n",
    "\n",
    "# Fill missing values in 'Aircraft.damage' with the mode\n",
    "aircraft_damage_mode = df['Aircraft.damage'].mode()[0]\n",
    "df['Aircraft.damage'].fillna(aircraft_damage_mode, inplace=True)\n",
    "\n",
    "# Fill missing values in 'Country' with the mode\n",
    "country_mode = df['Country'].mode()[0]\n",
    "df['Country'].fillna(country_mode, inplace=True)\n",
    "\n",
    "# Fill missing values in 'Make' with the mode\n",
    "make_mode = df['Make'].mode()[0]\n",
    "df['Make'].fillna(make_mode, inplace=True)\n",
    "\n",
    "# Fill missing values in 'Model' with the mode\n",
    "model_mode = df['Model'].mode()[0]\n",
    "df['Model'].fillna(model_mode, inplace=True)\n",
    "\n",
    "# Fill missing values in 'Ameteur.Built' with the mode\n",
    "Amateur_built_model = df['Amateur.Built'].mode()[0]\n",
    "df['Amateur.Built'].fillna(Amateur_built_model, inplace=True)\n",
    "\n",
    "# Fill missing values in 'Engine.Type' with the mode\n",
    "Eingine_type_mode = df['Engine.Type'].mode()[0]\n",
    "df['Engine.Type'].fillna(country_mode, inplace=True)\n",
    "\n",
    "# Fill missing values in 'Purpose .of.Flight' with the mode\n",
    "purpose_of_the_flight = df['Purpose.of.flight'].mode()[0]\n",
    "df['Purpose.of.flight'].fillna(country_mode, inplace=True)\n"
   ]
  },
  {
   "cell_type": "code",
   "execution_count": 2642,
   "id": "5086e8bb-36ba-46de-8d30-49e720b812aa",
   "metadata": {},
   "outputs": [
    {
     "name": "stdout",
     "output_type": "stream",
     "text": [
      "<class 'pandas.core.frame.DataFrame'>\n",
      "RangeIndex: 88889 entries, 0 to 88888\n",
      "Data columns (total 15 columns):\n",
      " #   Column                  Non-Null Count  Dtype  \n",
      "---  ------                  --------------  -----  \n",
      " 0   Event.Id                88889 non-null  object \n",
      " 1   Accident.Number         88889 non-null  object \n",
      " 2   Event.Date              88889 non-null  object \n",
      " 3   Country                 88889 non-null  object \n",
      " 4   Aircraft.damage         88889 non-null  object \n",
      " 5   Make                    88889 non-null  object \n",
      " 6   Model                   88889 non-null  object \n",
      " 7   Amateur.Built           88889 non-null  object \n",
      " 8   Number.of.Engines       88889 non-null  float64\n",
      " 9   Engine.Type             88889 non-null  object \n",
      " 10  Total.Fatal.Injuries    88889 non-null  float64\n",
      " 11  Total.Serious.Injuries  88889 non-null  float64\n",
      " 12  Total.Minor.Injuries    88889 non-null  float64\n",
      " 13  Total.Uninjured         88889 non-null  float64\n",
      " 14  Purpose.of.flight       88889 non-null  object \n",
      "dtypes: float64(5), object(10)\n",
      "memory usage: 10.2+ MB\n"
     ]
    }
   ],
   "source": [
    "aircraft_data = df[relevant_columns]\n",
    "aircraft_data\n",
    "\n",
    "aircraft_data.info()\n"
   ]
  },
  {
   "cell_type": "code",
   "execution_count": 2643,
   "id": "7f661b65-8a17-4388-9efe-41754a18ff86",
   "metadata": {},
   "outputs": [],
   "source": [
    "### we then drop rows containing missing values across the relevant columns\n",
    "#df_cleaned = df.dropna(inplace=True)\n",
    "#df_cleaned"
   ]
  },
  {
   "cell_type": "code",
   "execution_count": 2644,
   "id": "9b3f754a-efea-4a93-9edf-0b272eaf9eeb",
   "metadata": {},
   "outputs": [
    {
     "data": {
      "text/plain": [
       "0        False\n",
       "1        False\n",
       "2        False\n",
       "3        False\n",
       "4        False\n",
       "         ...  \n",
       "88884    False\n",
       "88885    False\n",
       "88886    False\n",
       "88887    False\n",
       "88888    False\n",
       "Length: 88889, dtype: bool"
      ]
     },
     "execution_count": 2644,
     "metadata": {},
     "output_type": "execute_result"
    }
   ],
   "source": [
    "#checking for rows with missing values\n",
    "aircraft_data.isna().any(axis=1)\n"
   ]
  },
  {
   "cell_type": "markdown",
   "id": "ffed41ba-28e4-41a2-88f0-e572c294eb13",
   "metadata": {},
   "source": [
    "From the observation above, there are no rows with missing values. since most of the columns with missing values have been 'filled'.Therefore our dataset is free from missing values"
   ]
  },
  {
   "cell_type": "markdown",
   "id": "706187dd-fb29-4840-aa06-868c63a81a3b",
   "metadata": {},
   "source": [
    "### checking for duplicate values in the aircraft_data"
   ]
  },
  {
   "cell_type": "code",
   "execution_count": 2647,
   "id": "d9958ca5-6534-494f-b0cb-51f27e09b882",
   "metadata": {},
   "outputs": [
    {
     "data": {
      "text/plain": [
       "0        False\n",
       "1        False\n",
       "2        False\n",
       "3        False\n",
       "4        False\n",
       "         ...  \n",
       "88884    False\n",
       "88885    False\n",
       "88886    False\n",
       "88887    False\n",
       "88888    False\n",
       "Length: 88889, dtype: bool"
      ]
     },
     "execution_count": 2647,
     "metadata": {},
     "output_type": "execute_result"
    }
   ],
   "source": [
    "# Identifying duplicate rows considering all columns\n",
    "duplicates = aircraft_data.duplicated()\n",
    "duplicates"
   ]
  },
  {
   "cell_type": "code",
   "execution_count": 2648,
   "id": "ac975cde-635e-4dc1-a63a-bf9335e81125",
   "metadata": {},
   "outputs": [
    {
     "data": {
      "text/plain": [
       "False    88887\n",
       "True         2\n",
       "Name: count, dtype: int64"
      ]
     },
     "execution_count": 2648,
     "metadata": {},
     "output_type": "execute_result"
    }
   ],
   "source": [
    "#getting the counts of duplicated values\n",
    "num_duplicates = duplicates.value_counts()\n",
    "num_duplicates"
   ]
  },
  {
   "cell_type": "code",
   "execution_count": 2649,
   "id": "a16eff2c-bf82-4226-a908-5af8506cd1ff",
   "metadata": {},
   "outputs": [
    {
     "data": {
      "text/html": [
       "<div>\n",
       "<style scoped>\n",
       "    .dataframe tbody tr th:only-of-type {\n",
       "        vertical-align: middle;\n",
       "    }\n",
       "\n",
       "    .dataframe tbody tr th {\n",
       "        vertical-align: top;\n",
       "    }\n",
       "\n",
       "    .dataframe thead th {\n",
       "        text-align: right;\n",
       "    }\n",
       "</style>\n",
       "<table border=\"1\" class=\"dataframe\">\n",
       "  <thead>\n",
       "    <tr style=\"text-align: right;\">\n",
       "      <th></th>\n",
       "      <th>Event.Id</th>\n",
       "      <th>Accident.Number</th>\n",
       "      <th>Event.Date</th>\n",
       "      <th>Country</th>\n",
       "      <th>Aircraft.damage</th>\n",
       "      <th>Make</th>\n",
       "      <th>Model</th>\n",
       "      <th>Amateur.Built</th>\n",
       "      <th>Number.of.Engines</th>\n",
       "      <th>Engine.Type</th>\n",
       "      <th>Total.Fatal.Injuries</th>\n",
       "      <th>Total.Serious.Injuries</th>\n",
       "      <th>Total.Minor.Injuries</th>\n",
       "      <th>Total.Uninjured</th>\n",
       "      <th>Purpose.of.flight</th>\n",
       "    </tr>\n",
       "  </thead>\n",
       "  <tbody>\n",
       "    <tr>\n",
       "      <th>88387</th>\n",
       "      <td>2.02208E+13</td>\n",
       "      <td>ERA22LA379</td>\n",
       "      <td>8/20/2022</td>\n",
       "      <td>United States</td>\n",
       "      <td>Substantial</td>\n",
       "      <td>BOEING</td>\n",
       "      <td>A75N1</td>\n",
       "      <td>No</td>\n",
       "      <td>1.0</td>\n",
       "      <td>United States</td>\n",
       "      <td>0.0</td>\n",
       "      <td>2.0</td>\n",
       "      <td>0.0</td>\n",
       "      <td>2.0</td>\n",
       "      <td>Business</td>\n",
       "    </tr>\n",
       "    <tr>\n",
       "      <th>88528</th>\n",
       "      <td>2.02209E+13</td>\n",
       "      <td>DCA22WA204</td>\n",
       "      <td>9/14/2022</td>\n",
       "      <td>India</td>\n",
       "      <td>Substantial</td>\n",
       "      <td>BOEING</td>\n",
       "      <td>787</td>\n",
       "      <td>No</td>\n",
       "      <td>1.0</td>\n",
       "      <td>United States</td>\n",
       "      <td>0.0</td>\n",
       "      <td>0.0</td>\n",
       "      <td>0.0</td>\n",
       "      <td>0.0</td>\n",
       "      <td>United States</td>\n",
       "    </tr>\n",
       "  </tbody>\n",
       "</table>\n",
       "</div>"
      ],
      "text/plain": [
       "          Event.Id Accident.Number Event.Date        Country Aircraft.damage  \\\n",
       "88387  2.02208E+13      ERA22LA379  8/20/2022  United States     Substantial   \n",
       "88528  2.02209E+13      DCA22WA204  9/14/2022          India     Substantial   \n",
       "\n",
       "         Make  Model Amateur.Built  Number.of.Engines    Engine.Type  \\\n",
       "88387  BOEING  A75N1            No                1.0  United States   \n",
       "88528  BOEING    787            No                1.0  United States   \n",
       "\n",
       "       Total.Fatal.Injuries  Total.Serious.Injuries  Total.Minor.Injuries  \\\n",
       "88387                   0.0                     2.0                   0.0   \n",
       "88528                   0.0                     0.0                   0.0   \n",
       "\n",
       "       Total.Uninjured Purpose.of.flight  \n",
       "88387              2.0          Business  \n",
       "88528              0.0     United States  "
      ]
     },
     "execution_count": 2649,
     "metadata": {},
     "output_type": "execute_result"
    }
   ],
   "source": [
    "## Displaying all duplicate rows\n",
    "duplicate_rows = aircraft_data[duplicates]\n",
    "duplicate_rows"
   ]
  },
  {
   "cell_type": "code",
   "execution_count": 2650,
   "id": "09e8f2f1-c083-40ca-8310-6cba35061b78",
   "metadata": {},
   "outputs": [
    {
     "data": {
      "text/plain": [
       "0        False\n",
       "1        False\n",
       "2        False\n",
       "3        False\n",
       "4         True\n",
       "         ...  \n",
       "88884     True\n",
       "88885     True\n",
       "88886     True\n",
       "88887     True\n",
       "88888     True\n",
       "Length: 88889, dtype: bool"
      ]
     },
     "execution_count": 2650,
     "metadata": {},
     "output_type": "execute_result"
    }
   ],
   "source": [
    "# Identifying duplicate rows based on a specific column\n",
    "duplicates_specific_column = aircraft_data.duplicated(subset=['Make'])\n",
    "duplicates_specific_column"
   ]
  },
  {
   "cell_type": "code",
   "execution_count": 2651,
   "id": "a14f9379-d5f4-4607-91cb-1424aa39c763",
   "metadata": {},
   "outputs": [
    {
     "data": {
      "text/plain": [
       "True     80652\n",
       "False     8237\n",
       "Name: count, dtype: int64"
      ]
     },
     "execution_count": 2651,
     "metadata": {},
     "output_type": "execute_result"
    }
   ],
   "source": [
    "#getting the value counts of duplicates in column 'Make'\n",
    "num_make_duplicates = duplicates_specific_column.value_counts()\n",
    "num_make_duplicates\n"
   ]
  },
  {
   "cell_type": "code",
   "execution_count": 2652,
   "id": "2fa2ba73-4765-4430-96a8-a832f1837cbe",
   "metadata": {},
   "outputs": [
    {
     "data": {
      "text/plain": [
       "Make\n",
       "Cessna             22290\n",
       "Piper              12029\n",
       "CESSNA              4922\n",
       "Beech               4330\n",
       "PIPER               2841\n",
       "                   ...  \n",
       "Leonard Walters        1\n",
       "Maule Air Inc.         1\n",
       "Motley Vans            1\n",
       "Perlick                1\n",
       "ROYSE RALPH L          1\n",
       "Name: count, Length: 8237, dtype: int64"
      ]
     },
     "execution_count": 2652,
     "metadata": {},
     "output_type": "execute_result"
    }
   ],
   "source": [
    "aircraft_data['Make'].value_counts()"
   ]
  },
  {
   "cell_type": "markdown",
   "id": "8696b8bc-330c-4397-be4e-d5c97c50a753",
   "metadata": {},
   "source": [
    "Since the Column 'Make' has so many duplicates, we can reduce the duplicates by normalizing their case\n"
   ]
  },
  {
   "cell_type": "markdown",
   "id": "7a4d41a6-5fe6-40c5-b2f6-7bd08df8a3e2",
   "metadata": {},
   "source": [
    "After a thorough data cleaning, the data is now ready for analysis."
   ]
  },
  {
   "cell_type": "markdown",
   "id": "46858e24-e022-4894-a32b-3fc1e30e7aac",
   "metadata": {},
   "source": [
    "## 1c. Calculate Safety Metrics "
   ]
  },
  {
   "cell_type": "code",
   "execution_count": 2698,
   "id": "951aead3-9c03-4b72-9911-a4802d72d6cd",
   "metadata": {},
   "outputs": [
    {
     "name": "stdout",
     "output_type": "stream",
     "text": [
      "Make\n",
      "CESSNA           27212\n",
      "PIPER            14870\n",
      "BEECH             5372\n",
      "BOEING            2745\n",
      "BELL              2722\n",
      "                 ...  \n",
      "COHEN                1\n",
      "KITCHENS             1\n",
      "LUTES                1\n",
      "IZATT                1\n",
      "ROYSE RALPH L        1\n",
      "Name: count, Length: 7587, dtype: int64\n"
     ]
    },
    {
     "data": {
      "text/plain": [
       "Make\n",
       "Cessna     25.076219\n",
       "Piper      13.532608\n",
       "CESSNA      5.537243\n",
       "Beech       4.871244\n",
       "PIPER       3.196121\n",
       "Bell        2.400747\n",
       "Boeing      1.793248\n",
       "BOEING      1.294873\n",
       "Grumman     1.230748\n",
       "Mooney      1.228498\n",
       "Name: proportion, dtype: float64"
      ]
     },
     "execution_count": 2698,
     "metadata": {},
     "output_type": "execute_result"
    }
   ],
   "source": [
    "#I want to understand which make of an aircraft has the highest counts\n",
    "\n",
    "make_upper_case = aircraft_data['Make'].str.upper().value_counts()\n",
    "print(make_upper_case)\n",
    "\n",
    "\n",
    "top_10_makes = aircraft_data['Make'].value_counts(normalize=True, dropna=False)[:10] * 100\n",
    "top_10_makes"
   ]
  },
  {
   "cell_type": "code",
   "execution_count": 2657,
   "id": "5445214f-e60f-424b-8554-bf5a96da5f13",
   "metadata": {},
   "outputs": [
    {
     "data": {
      "image/png": "[encoded data removed]",
      "text/plain": [
       "<Figure size 1000x600 with 1 Axes>"
      ]
     },
     "metadata": {},
     "output_type": "display_data"
    }
   ],
   "source": [
    "# Plotting a simple  bar graph using matplotlib\n",
    "plt.figure(figsize=(10, 6))\n",
    "top_10_makes.plot(kind='bar')\n",
    "plt.title('Frequency of Aircraft Makes')\n",
    "plt.xlabel('Make')\n",
    "plt.ylabel('Count')\n",
    "plt.xticks(rotation=45)\n",
    "plt.show()"
   ]
  },
  {
   "cell_type": "markdown",
   "id": "f280041a-f8a4-4aae-9141-403eacc76429",
   "metadata": {},
   "source": [
    "Based on the chart, Cessna aircraft have the highest frequency, comprising 25% of all observed counts, which is notably the highest. Following Cessna is , Piper with 13%, Beech, and Boeing are also prominent. Our interest now turns to determining which of these makes recorded the highest total injuries and which had the highest instances of being uninjured."
   ]
  },
  {
   "cell_type": "markdown",
   "id": "31a510ac-444e-465f-aa7a-a5f632b1f0e3",
   "metadata": {},
   "source": [
    "### Creating a new column of 'Total.Injuries'"
   ]
  },
  {
   "cell_type": "code",
   "execution_count": 2702,
   "id": "27b538f9-c864-4430-b3a2-90266a8b34b6",
   "metadata": {},
   "outputs": [
    {
     "data": {
      "text/plain": [
       "0        2.0\n",
       "1        4.0\n",
       "2        3.0\n",
       "3        2.0\n",
       "4        3.0\n",
       "        ... \n",
       "88884    1.0\n",
       "88885    0.0\n",
       "88886    0.0\n",
       "88887    0.0\n",
       "88888    1.0\n",
       "Name: Total.Injuries, Length: 88889, dtype: float64"
      ]
     },
     "execution_count": 2702,
     "metadata": {},
     "output_type": "execute_result"
    }
   ],
   "source": [
    "# Calculating total injuries (fatal, serious, minor) to assess severity\n",
    "df['Total.Injuries'] = df['Total.Fatal.Injuries'] + df['Total.Serious.Injuries'] + df['Total.Minor.Injuries']\n",
    "df.loc[:, 'Total.Injuries']"
   ]
  },
  {
   "cell_type": "code",
   "execution_count": 2704,
   "id": "c69df4e1-259c-469d-b046-ae703ae876c8",
   "metadata": {},
   "outputs": [
    {
     "data": {
      "text/html": [
       "<div>\n",
       "<style scoped>\n",
       "    .dataframe tbody tr th:only-of-type {\n",
       "        vertical-align: middle;\n",
       "    }\n",
       "\n",
       "    .dataframe tbody tr th {\n",
       "        vertical-align: top;\n",
       "    }\n",
       "\n",
       "    .dataframe thead th {\n",
       "        text-align: right;\n",
       "    }\n",
       "</style>\n",
       "<table border=\"1\" class=\"dataframe\">\n",
       "  <thead>\n",
       "    <tr style=\"text-align: right;\">\n",
       "      <th></th>\n",
       "      <th>Event.Id</th>\n",
       "      <th>Accident.Number</th>\n",
       "      <th>Event.Date</th>\n",
       "      <th>Country</th>\n",
       "      <th>Aircraft.damage</th>\n",
       "      <th>Make</th>\n",
       "      <th>Model</th>\n",
       "      <th>Amateur.Built</th>\n",
       "      <th>Number.of.Engines</th>\n",
       "      <th>Engine.Type</th>\n",
       "      <th>Total.Fatal.Injuries</th>\n",
       "      <th>Total.Serious.Injuries</th>\n",
       "      <th>Total.Minor.Injuries</th>\n",
       "      <th>Total.Uninjured</th>\n",
       "      <th>Purpose.of.flight</th>\n",
       "      <th>Total.Injuries</th>\n",
       "    </tr>\n",
       "  </thead>\n",
       "  <tbody>\n",
       "    <tr>\n",
       "      <th>0</th>\n",
       "      <td>20001218X45444</td>\n",
       "      <td>SEA87LA080</td>\n",
       "      <td>10/24/1948</td>\n",
       "      <td>United States</td>\n",
       "      <td>Destroyed</td>\n",
       "      <td>Stinson</td>\n",
       "      <td>108-3</td>\n",
       "      <td>No</td>\n",
       "      <td>1.0</td>\n",
       "      <td>Reciprocating</td>\n",
       "      <td>2.0</td>\n",
       "      <td>0.0</td>\n",
       "      <td>0.0</td>\n",
       "      <td>0.0</td>\n",
       "      <td>Personal</td>\n",
       "      <td>2.0</td>\n",
       "    </tr>\n",
       "    <tr>\n",
       "      <th>1</th>\n",
       "      <td>20001218X45447</td>\n",
       "      <td>LAX94LA336</td>\n",
       "      <td>7/19/1962</td>\n",
       "      <td>United States</td>\n",
       "      <td>Destroyed</td>\n",
       "      <td>Piper</td>\n",
       "      <td>PA24-180</td>\n",
       "      <td>No</td>\n",
       "      <td>1.0</td>\n",
       "      <td>Reciprocating</td>\n",
       "      <td>4.0</td>\n",
       "      <td>0.0</td>\n",
       "      <td>0.0</td>\n",
       "      <td>0.0</td>\n",
       "      <td>Personal</td>\n",
       "      <td>4.0</td>\n",
       "    </tr>\n",
       "    <tr>\n",
       "      <th>2</th>\n",
       "      <td>20061025X01555</td>\n",
       "      <td>NYC07LA005</td>\n",
       "      <td>8/30/1974</td>\n",
       "      <td>United States</td>\n",
       "      <td>Destroyed</td>\n",
       "      <td>Cessna</td>\n",
       "      <td>172M</td>\n",
       "      <td>No</td>\n",
       "      <td>1.0</td>\n",
       "      <td>Reciprocating</td>\n",
       "      <td>3.0</td>\n",
       "      <td>0.0</td>\n",
       "      <td>0.0</td>\n",
       "      <td>1.0</td>\n",
       "      <td>Personal</td>\n",
       "      <td>3.0</td>\n",
       "    </tr>\n",
       "    <tr>\n",
       "      <th>3</th>\n",
       "      <td>20001218X45448</td>\n",
       "      <td>LAX96LA321</td>\n",
       "      <td>6/19/1977</td>\n",
       "      <td>United States</td>\n",
       "      <td>Destroyed</td>\n",
       "      <td>Rockwell</td>\n",
       "      <td>112</td>\n",
       "      <td>No</td>\n",
       "      <td>1.0</td>\n",
       "      <td>Reciprocating</td>\n",
       "      <td>2.0</td>\n",
       "      <td>0.0</td>\n",
       "      <td>0.0</td>\n",
       "      <td>0.0</td>\n",
       "      <td>Personal</td>\n",
       "      <td>2.0</td>\n",
       "    </tr>\n",
       "    <tr>\n",
       "      <th>4</th>\n",
       "      <td>20041105X01764</td>\n",
       "      <td>CHI79FA064</td>\n",
       "      <td>8/2/1979</td>\n",
       "      <td>United States</td>\n",
       "      <td>Destroyed</td>\n",
       "      <td>Cessna</td>\n",
       "      <td>501</td>\n",
       "      <td>No</td>\n",
       "      <td>1.0</td>\n",
       "      <td>United States</td>\n",
       "      <td>1.0</td>\n",
       "      <td>2.0</td>\n",
       "      <td>0.0</td>\n",
       "      <td>0.0</td>\n",
       "      <td>Personal</td>\n",
       "      <td>3.0</td>\n",
       "    </tr>\n",
       "    <tr>\n",
       "      <th>...</th>\n",
       "      <td>...</td>\n",
       "      <td>...</td>\n",
       "      <td>...</td>\n",
       "      <td>...</td>\n",
       "      <td>...</td>\n",
       "      <td>...</td>\n",
       "      <td>...</td>\n",
       "      <td>...</td>\n",
       "      <td>...</td>\n",
       "      <td>...</td>\n",
       "      <td>...</td>\n",
       "      <td>...</td>\n",
       "      <td>...</td>\n",
       "      <td>...</td>\n",
       "      <td>...</td>\n",
       "      <td>...</td>\n",
       "    </tr>\n",
       "    <tr>\n",
       "      <th>88884</th>\n",
       "      <td>2.02212E+13</td>\n",
       "      <td>ERA23LA093</td>\n",
       "      <td>12/26/2022</td>\n",
       "      <td>United States</td>\n",
       "      <td>Substantial</td>\n",
       "      <td>PIPER</td>\n",
       "      <td>PA-28-151</td>\n",
       "      <td>No</td>\n",
       "      <td>1.0</td>\n",
       "      <td>United States</td>\n",
       "      <td>0.0</td>\n",
       "      <td>1.0</td>\n",
       "      <td>0.0</td>\n",
       "      <td>0.0</td>\n",
       "      <td>Personal</td>\n",
       "      <td>1.0</td>\n",
       "    </tr>\n",
       "    <tr>\n",
       "      <th>88885</th>\n",
       "      <td>2.02212E+13</td>\n",
       "      <td>ERA23LA095</td>\n",
       "      <td>12/26/2022</td>\n",
       "      <td>United States</td>\n",
       "      <td>Substantial</td>\n",
       "      <td>BELLANCA</td>\n",
       "      <td>7ECA</td>\n",
       "      <td>No</td>\n",
       "      <td>1.0</td>\n",
       "      <td>United States</td>\n",
       "      <td>0.0</td>\n",
       "      <td>0.0</td>\n",
       "      <td>0.0</td>\n",
       "      <td>0.0</td>\n",
       "      <td>United States</td>\n",
       "      <td>0.0</td>\n",
       "    </tr>\n",
       "    <tr>\n",
       "      <th>88886</th>\n",
       "      <td>2.02212E+13</td>\n",
       "      <td>WPR23LA075</td>\n",
       "      <td>12/26/2022</td>\n",
       "      <td>United States</td>\n",
       "      <td>Substantial</td>\n",
       "      <td>AMERICAN CHAMPION AIRCRAFT</td>\n",
       "      <td>8GCBC</td>\n",
       "      <td>No</td>\n",
       "      <td>1.0</td>\n",
       "      <td>United States</td>\n",
       "      <td>0.0</td>\n",
       "      <td>0.0</td>\n",
       "      <td>0.0</td>\n",
       "      <td>1.0</td>\n",
       "      <td>Personal</td>\n",
       "      <td>0.0</td>\n",
       "    </tr>\n",
       "    <tr>\n",
       "      <th>88887</th>\n",
       "      <td>2.02212E+13</td>\n",
       "      <td>WPR23LA076</td>\n",
       "      <td>12/26/2022</td>\n",
       "      <td>United States</td>\n",
       "      <td>Substantial</td>\n",
       "      <td>CESSNA</td>\n",
       "      <td>210N</td>\n",
       "      <td>No</td>\n",
       "      <td>1.0</td>\n",
       "      <td>United States</td>\n",
       "      <td>0.0</td>\n",
       "      <td>0.0</td>\n",
       "      <td>0.0</td>\n",
       "      <td>0.0</td>\n",
       "      <td>Personal</td>\n",
       "      <td>0.0</td>\n",
       "    </tr>\n",
       "    <tr>\n",
       "      <th>88888</th>\n",
       "      <td>2.02212E+13</td>\n",
       "      <td>ERA23LA097</td>\n",
       "      <td>12/29/2022</td>\n",
       "      <td>United States</td>\n",
       "      <td>Substantial</td>\n",
       "      <td>PIPER</td>\n",
       "      <td>PA-24-260</td>\n",
       "      <td>No</td>\n",
       "      <td>1.0</td>\n",
       "      <td>United States</td>\n",
       "      <td>0.0</td>\n",
       "      <td>1.0</td>\n",
       "      <td>0.0</td>\n",
       "      <td>1.0</td>\n",
       "      <td>Personal</td>\n",
       "      <td>1.0</td>\n",
       "    </tr>\n",
       "  </tbody>\n",
       "</table>\n",
       "<p>88889 rows × 16 columns</p>\n",
       "</div>"
      ],
      "text/plain": [
       "             Event.Id Accident.Number  Event.Date        Country  \\\n",
       "0      20001218X45444      SEA87LA080  10/24/1948  United States   \n",
       "1      20001218X45447      LAX94LA336   7/19/1962  United States   \n",
       "2      20061025X01555      NYC07LA005   8/30/1974  United States   \n",
       "3      20001218X45448      LAX96LA321   6/19/1977  United States   \n",
       "4      20041105X01764      CHI79FA064    8/2/1979  United States   \n",
       "...               ...             ...         ...            ...   \n",
       "88884     2.02212E+13      ERA23LA093  12/26/2022  United States   \n",
       "88885     2.02212E+13      ERA23LA095  12/26/2022  United States   \n",
       "88886     2.02212E+13      WPR23LA075  12/26/2022  United States   \n",
       "88887     2.02212E+13      WPR23LA076  12/26/2022  United States   \n",
       "88888     2.02212E+13      ERA23LA097  12/29/2022  United States   \n",
       "\n",
       "      Aircraft.damage                        Make      Model Amateur.Built  \\\n",
       "0           Destroyed                     Stinson      108-3            No   \n",
       "1           Destroyed                       Piper   PA24-180            No   \n",
       "2           Destroyed                      Cessna       172M            No   \n",
       "3           Destroyed                    Rockwell        112            No   \n",
       "4           Destroyed                      Cessna        501            No   \n",
       "...               ...                         ...        ...           ...   \n",
       "88884     Substantial                       PIPER  PA-28-151            No   \n",
       "88885     Substantial                    BELLANCA       7ECA            No   \n",
       "88886     Substantial  AMERICAN CHAMPION AIRCRAFT      8GCBC            No   \n",
       "88887     Substantial                      CESSNA       210N            No   \n",
       "88888     Substantial                       PIPER  PA-24-260            No   \n",
       "\n",
       "       Number.of.Engines    Engine.Type  Total.Fatal.Injuries  \\\n",
       "0                    1.0  Reciprocating                   2.0   \n",
       "1                    1.0  Reciprocating                   4.0   \n",
       "2                    1.0  Reciprocating                   3.0   \n",
       "3                    1.0  Reciprocating                   2.0   \n",
       "4                    1.0  United States                   1.0   \n",
       "...                  ...            ...                   ...   \n",
       "88884                1.0  United States                   0.0   \n",
       "88885                1.0  United States                   0.0   \n",
       "88886                1.0  United States                   0.0   \n",
       "88887                1.0  United States                   0.0   \n",
       "88888                1.0  United States                   0.0   \n",
       "\n",
       "       Total.Serious.Injuries  Total.Minor.Injuries  Total.Uninjured  \\\n",
       "0                         0.0                   0.0              0.0   \n",
       "1                         0.0                   0.0              0.0   \n",
       "2                         0.0                   0.0              1.0   \n",
       "3                         0.0                   0.0              0.0   \n",
       "4                         2.0                   0.0              0.0   \n",
       "...                       ...                   ...              ...   \n",
       "88884                     1.0                   0.0              0.0   \n",
       "88885                     0.0                   0.0              0.0   \n",
       "88886                     0.0                   0.0              1.0   \n",
       "88887                     0.0                   0.0              0.0   \n",
       "88888                     1.0                   0.0              1.0   \n",
       "\n",
       "      Purpose.of.flight  Total.Injuries  \n",
       "0              Personal             2.0  \n",
       "1              Personal             4.0  \n",
       "2              Personal             3.0  \n",
       "3              Personal             2.0  \n",
       "4              Personal             3.0  \n",
       "...                 ...             ...  \n",
       "88884          Personal             1.0  \n",
       "88885     United States             0.0  \n",
       "88886          Personal             0.0  \n",
       "88887          Personal             0.0  \n",
       "88888          Personal             1.0  \n",
       "\n",
       "[88889 rows x 16 columns]"
      ]
     },
     "execution_count": 2704,
     "metadata": {},
     "output_type": "execute_result"
    }
   ],
   "source": [
    "#adding the new column to the selected columns\n",
    "relevant_columns = [\n",
    "    'Event.Id', 'Accident.Number', 'Event.Date', 'Country', 'Aircraft.damage', \n",
    "    'Make', 'Model', 'Amateur.Built', 'Number.of.Engines', 'Engine.Type', \n",
    "    'Total.Fatal.Injuries', 'Total.Serious.Injuries', 'Total.Minor.Injuries', 'Total.Uninjured','Purpose.of.flight','Total.Injuries' \n",
    "]\n",
    "aircraft_data = df[relevant_columns]\n",
    "aircraft_data"
   ]
  },
  {
   "cell_type": "markdown",
   "id": "d6cc3acf-39f1-4942-ad37-e40a94ca86ee",
   "metadata": {},
   "source": [
    "### 1d. Analyzing trends and patterns to identify which 'Make' has the highest number number of injuries."
   ]
  },
  {
   "cell_type": "code",
   "execution_count": 2720,
   "id": "dfed789e-b806-4b2b-a238-c60452e10f10",
   "metadata": {},
   "outputs": [
    {
     "data": {
      "image/png": "[encoded data removed]",
      "text/plain": [
       "<Figure size 1200x600 with 1 Axes>"
      ]
     },
     "metadata": {},
     "output_type": "display_data"
    }
   ],
   "source": [
    "#want to plot Make against highest number of total injuries\n",
    "aircraft_data.loc[:,'Make'] = aircraft_data['Make'].str.upper()\n",
    "\n",
    "# Group by 'Make' and sum the 'Total.Injuries'\n",
    "make_injuries = aircraft_data.groupby('Make')['Total.Injuries'].sum().reset_index()\n",
    "\n",
    "# Sort by Total Injuries and select top 10 makes\n",
    "top_10_makes = make_injuries.sort_values(by='Total.Injuries', ascending=False).head(10)\n",
    "\n",
    "# Plotting the top 10 makes by total injuries\n",
    "plt.figure(figsize=(12, 6))\n",
    "sns.barplot(data=top_10_makes, x='Make', y='Total.Injuries', palette='viridis')\n",
    "plt.title('Top 10 Aircraft Makes by Total Injuries')\n",
    "plt.xlabel('Make')\n",
    "plt.ylabel('Total Injuries')\n",
    "plt.xticks(rotation=45)\n",
    "plt.show()"
   ]
  },
  {
   "cell_type": "markdown",
   "id": "daa42e7d-ba6b-464c-afb7-84dfcb1b15e9",
   "metadata": {},
   "source": [
    "Once more, according to the chart, aircraft makes such as Cessna, Boeing, Piper, and Beech. consistently show higher numbers \n",
    "of injuries, followed closely by 'MACDONNEL DOUGLAS','BELL','AIRBUS'. Now, let's delve deeper to determine which make has the highest count of uninjured cases, allowing for a \n",
    "comprehensive analysis to understand why these particular makes are associated with such significant case numbers."
   ]
  },
  {
   "cell_type": "markdown",
   "id": "d88dcb9e-e5ca-469c-94f8-165656bbe750",
   "metadata": {},
   "source": [
    "### Plotting 'Make' against highest number of 'Total.Uninjured'"
   ]
  },
  {
   "cell_type": "code",
   "execution_count": 2724,
   "id": "7fc6b3b3-dd1e-464a-9913-469ee2c9b200",
   "metadata": {},
   "outputs": [
    {
     "data": {
      "image/png": "[encoded data removed]",
      "text/plain": [
       "<Figure size 1200x600 with 1 Axes>"
      ]
     },
     "metadata": {},
     "output_type": "display_data"
    }
   ],
   "source": [
    "# Group by 'Make' and sum the 'Total.Uninjured'\n",
    "make_uninjured = aircraft_data.groupby('Make')['Total.Uninjured'].sum().reset_index()\n",
    "\n",
    "# Sort by Total Uninjured and select top 10 makes\n",
    "top_10_makes_uninjured = make_uninjured.sort_values(by='Total.Uninjured', ascending=False).head(10)\n",
    "\n",
    "# Plotting the top 10 makes by total uninjured cases\n",
    "plt.figure(figsize=(12, 6))\n",
    "sns.barplot(data=top_10_makes_uninjured, x='Make', y='Total.Uninjured', palette='viridis')\n",
    "plt.title('Top 10 Aircraft Makes by Total Uninjured Cases')\n",
    "plt.xlabel('Make')\n",
    "plt.ylabel('Total Uninjured Cases')\n",
    "plt.xticks(rotation=45)\n",
    "plt.show()"
   ]
  },
  {
   "cell_type": "markdown",
   "id": "9d1f4a08-c67e-4b76-ad9c-d2c8e1743218",
   "metadata": {},
   "source": [
    "Previously, 'CESSNA', 'BOEING', 'PIPER', and 'BEECH' showed the highest total injuries. In the latest observation, 'BOEING', \n",
    "'MCDONNEL DOUGLAS','CESSNA' and 'AIRBUS' have taken the lead in total uninjured cases. This raises the question whether these \n",
    "numbers represent passengers aboard these aircraft, suggesting a preference for these makes."
   ]
  },
  {
   "cell_type": "code",
   "execution_count": null,
   "id": "5d987ed9-91a7-4ad9-9aa3-a778348da569",
   "metadata": {},
   "outputs": [],
   "source": [
    "Since we've had a repetition of a common group of 'Make', let seee their progress overtime in terms of 'Total.Injuries' \n",
    "and 'Total.Uninjured'."
   ]
  }
 ],
 "metadata": {
  "kernelspec": {
   "display_name": "Python 3 (ipykernel)",
   "language": "python",
   "name": "python3"
  },
  "language_info": {
   "codemirror_mode": {
    "name": "ipython",
    "version": 3
   },
   "file_extension": ".py",
   "mimetype": "text/x-python",
   "name": "python",
   "nbconvert_exporter": "python",
   "pygments_lexer": "ipython3",
   "version": "3.11.7"
  }
 },
 "nbformat": 4,
 "nbformat_minor": 5
}
